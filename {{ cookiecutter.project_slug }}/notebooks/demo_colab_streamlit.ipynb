{
  "nbformat": 4,
  "nbformat_minor": 0,
  "metadata": {
    "kernelspec": {
      "display_name": "Python 3",
      "language": "python",
      "name": "python3"
    },
    "language_info": {
      "codemirror_mode": {
        "name": "ipython",
        "version": 3
      },
      "file_extension": ".py",
      "mimetype": "text/x-python",
      "name": "python",
      "nbconvert_exporter": "python",
      "pygments_lexer": "ipython3",
      "version": "3.7.6"
    },
    "colab": {
      "name": "demo-colab-streamlit.ipynb のコピー",
      "private_outputs": true,
      "provenance": [],
      "collapsed_sections": []
    }
  },
  "cells": [
    {
      "cell_type": "code",
      "metadata": {
        "cellView": "form",
        "id": "Dk0hwphE1ouy"
      },
      "source": [
        "#@title 必要なライブラリのインストール\n",
        "!git clone https://github.com/{{ cookiecutter.github_username }}/ {{ cookiecutter.project_slug }}.git\n",
        "%cd {{ cookiecutter.project_slug }}\n",
        "!pip install poetry\n",
        "!poetry config virtualenvs.create false\n",
        "!poetry install --no-dev\n",
        "!wget https://bin.equinox.io/c/VdrWdbjqyF/cloudflared-stable-linux-amd64.deb\n",
        "!dpkg -i cloudflared-stable-linux-amd64.deb"
      ],
      "execution_count": null,
      "outputs": []
    },
    {
      "cell_type": "code",
      "metadata": {
        "cellView": "form",
        "id": "zBhoLbsv4MRF"
      },
      "source": [
        "#@title デモを起動\n",
        "%%bash --bg\n",
        "streamlit run app.py > streamlit.log 2>&1"
      ],
      "execution_count": null,
      "outputs": []
    },
    {
      "cell_type": "code",
      "metadata": {
        "cellView": "form",
        "id": "agefIv__NtEa"
      },
      "source": [
        "#@title デモにアクセスするためのURLを発行\n",
        "# cloudflaredのインストール　＆　localhostの8501ポートのトンネリングしたアクセス用URLを発行\n",
        "!cloudflared tunnel --url localhost:8501"
      ],
      "execution_count": null,
      "outputs": []
    }
  ]
}